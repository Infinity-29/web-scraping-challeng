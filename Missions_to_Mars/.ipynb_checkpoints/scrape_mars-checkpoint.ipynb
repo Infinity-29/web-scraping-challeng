{
 "cells": [
  {
   "cell_type": "code",
   "execution_count": 2,
   "id": "3308ff3e",
   "metadata": {},
   "outputs": [
    {
     "ename": "ModuleNotFoundError",
     "evalue": "No module named 'flask_pymongo'",
     "output_type": "error",
     "traceback": [
      "\u001b[1;31m---------------------------------------------------------------------------\u001b[0m",
      "\u001b[1;31mModuleNotFoundError\u001b[0m                       Traceback (most recent call last)",
      "\u001b[1;32m<ipython-input-2-002d90c59e9b>\u001b[0m in \u001b[0;36m<module>\u001b[1;34m\u001b[0m\n\u001b[0;32m      6\u001b[0m \u001b[1;32mimport\u001b[0m \u001b[0mpandas\u001b[0m \u001b[1;32mas\u001b[0m \u001b[0mpd\u001b[0m\u001b[1;33m\u001b[0m\u001b[1;33m\u001b[0m\u001b[0m\n\u001b[0;32m      7\u001b[0m \u001b[1;32mimport\u001b[0m \u001b[0mpymongo\u001b[0m\u001b[1;33m\u001b[0m\u001b[1;33m\u001b[0m\u001b[0m\n\u001b[1;32m----> 8\u001b[1;33m \u001b[1;32mfrom\u001b[0m \u001b[0mflask_pymongo\u001b[0m \u001b[1;32mimport\u001b[0m \u001b[0mPyMongo\u001b[0m\u001b[1;33m\u001b[0m\u001b[1;33m\u001b[0m\u001b[0m\n\u001b[0m",
      "\u001b[1;31mModuleNotFoundError\u001b[0m: No module named 'flask_pymongo'"
     ]
    }
   ],
   "source": [
    "# Dependencies\n",
    "from bs4 import BeautifulSoup as bs\n",
    "import requests\n",
    "from splinter import Browser\n",
    "from webdriver_manager.chrome import ChromeDriverManager\n",
    "import pandas as pd\n",
    "import pymongo\n",
    "from flask_pymongo import PyMongo"
   ]
  },
  {
   "cell_type": "code",
   "execution_count": 2,
   "id": "513294e7",
   "metadata": {},
   "outputs": [],
   "source": [
    "def scrape_news():\n",
    "    \n",
    "    executable_path = {'executable_path': ChromeDriverManager().install()}\n",
    "    browser = Browser('chrome', **executable_path, headless=False)\n",
    "\n",
    "    url = 'https://redplanetscience.com'\n",
    "    browser.visit(url)\n",
    "\n",
    "\n",
    "    html = browser.html\n",
    "    soup = bs(html,\"html.parser\")\n",
    "\n",
    "\n",
    "    title_txt = soup.find('div', class_=\"content_title\").text\n",
    "\n",
    "    news_txt = soup.find(\"div\", class_=\"article_teaser_body\").text\n",
    "\n",
    "    news = {\"title_txt\":title_txt,\n",
    "            \"news_txt\":news_txt\n",
    "           }\n",
    "\n",
    "    browser.quit()\n",
    "\n",
    "    return news"
   ]
  },
  {
   "cell_type": "code",
   "execution_count": 3,
   "id": "2e2c0c1f",
   "metadata": {},
   "outputs": [],
   "source": [
    "def scrape_image():\n",
    "    \n",
    "    executable_path = {'executable_path': ChromeDriverManager().install()}\n",
    "    browser = Browser('chrome', **executable_path, headless=False)\n",
    "    \n",
    "    url = 'https://spaceimages-mars.com'\n",
    "    browser.visit(url)\n",
    "\n",
    "    html = browser.html\n",
    "    soup = bs(html,\"html.parser\")\n",
    "    \n",
    "    featured_image_url = soup.find('img', class_='headerimage fade-in')['src']\n",
    "    featured_image_url = url + featured_image_url\n",
    "    \n",
    "    browser.quit()\n",
    "\n",
    "    return featured_image_url"
   ]
  },
  {
   "cell_type": "code",
   "execution_count": 4,
   "id": "d716c522",
   "metadata": {},
   "outputs": [],
   "source": [
    "def scrape_details():\n",
    "    url = 'https://galaxyfacts-mars.com/'\n",
    "    table = pd.read_html(url)\n",
    "    newdf=table[0]\n",
    "    newdf.columns=['Mars - Earth Comparison','Mars', 'Earth']\n",
    "    newdf.set_index('Mars - Earth Comparison', inplace=True)\n",
    "    df = newdf.iloc[1: , :]\n",
    "    html_newdf = df.to_html()\n",
    "    html_newdf = html_newdf.replace('\\n', ' ')\n",
    "    \n",
    "    return html_newdf"
   ]
  },
  {
   "cell_type": "markdown",
   "id": "1de01934",
   "metadata": {},
   "source": [
    "### Mars Hemispheres"
   ]
  },
  {
   "cell_type": "code",
   "execution_count": 5,
   "id": "4b4b99ac",
   "metadata": {},
   "outputs": [],
   "source": [
    "def scrape_hemisphere():\n",
    "    \n",
    "    executable_path = {'executable_path': ChromeDriverManager().install()}\n",
    "    browser = Browser('chrome', **executable_path, headless=False)\n",
    "\n",
    "    url = 'https://marshemispheres.com/'\n",
    "    browser.visit(url)\n",
    "    \n",
    "    xpath = '//*[@id=\"product-section\"]/div[2]/div[1]/div/a/h3'\n",
    "    xpath2 = '//*[@id=\"product-section\"]/div[2]/div[2]/div/a/h3'\n",
    "    xpath3 = '//*[@id=\"product-section\"]/div[2]/div[3]/div/a/h3'\n",
    "    xpath4 = '//*[@id=\"product-section\"]/div[2]/div[4]/div/a/h3'\n",
    "    info_list = []\n",
    "    xpath_list = [xpath, xpath2, xpath3, xpath4]\n",
    "    \n",
    "    for x in xpath_list:\n",
    "            results = browser.find_by_xpath(x)\n",
    "            click = results[0]\n",
    "            click.click()\n",
    "\n",
    "            html = browser.html\n",
    "            soup = bs(html, \"html.parser\")\n",
    "\n",
    "            hemi_title = soup.find('h2', class_='title').text\n",
    "            full_image = soup.find('img', class_='wide-image')['src']\n",
    "            full_image_url = url + full_image\n",
    "\n",
    "            data = {\n",
    "                \"title\": hemi_title,\n",
    "                \"img_url\": full_image_url\n",
    "            }\n",
    "            info_list.append(data)\n",
    "            browser.back()\n",
    "\n",
    "    browser.quit()\n",
    "\n",
    "    return info_list"
   ]
  },
  {
   "cell_type": "code",
   "execution_count": 6,
   "id": "e6250691",
   "metadata": {},
   "outputs": [],
   "source": [
    "def scrape_final():\n",
    "    \n",
    "    news = scrape_news()\n",
    "    image = scrape_image()\n",
    "    details = scrape_details()\n",
    "    Hemisphere = scrape_hemisphere()\n",
    "    \n",
    "    result = {\n",
    "        'latest_news': news,\n",
    "        'featured_image': image,\n",
    "        'table': details,\n",
    "        'hemisphere_data': Hemisphere\n",
    "    }\n",
    "    \n",
    "    return result\n",
    "\n"
   ]
  },
  {
   "cell_type": "code",
   "execution_count": 7,
   "id": "540565bb",
   "metadata": {},
   "outputs": [
    {
     "name": "stderr",
     "output_type": "stream",
     "text": [
      "\n",
      "\n",
      "====== WebDriver manager ======\n",
      "Current google-chrome version is 93.0.4577\n",
      "Get LATEST driver version for 93.0.4577\n",
      "Driver [C:\\Users\\Priya\\.wdm\\drivers\\chromedriver\\win32\\93.0.4577.15\\chromedriver.exe] found in cache\n",
      "\n",
      "\n",
      "====== WebDriver manager ======\n",
      "Current google-chrome version is 93.0.4577\n",
      "Get LATEST driver version for 93.0.4577\n",
      "Driver [C:\\Users\\Priya\\.wdm\\drivers\\chromedriver\\win32\\93.0.4577.15\\chromedriver.exe] found in cache\n",
      "\n",
      "\n",
      "====== WebDriver manager ======\n",
      "Current google-chrome version is 93.0.4577\n",
      "Get LATEST driver version for 93.0.4577\n",
      "Driver [C:\\Users\\Priya\\.wdm\\drivers\\chromedriver\\win32\\93.0.4577.15\\chromedriver.exe] found in cache\n"
     ]
    },
    {
     "data": {
      "text/plain": [
       "{'latest_news': {'title_txt': \"NASA's Mars 2020 Comes Full Circle\",\n",
       "  'news_txt': \"Aiming to pinpoint the Martian vehicle's center of gravity, engineers took NASA's 2,300-pound Mars 2020 rover for a spin in the clean room at JPL. \"},\n",
       " 'featured_image': 'https://spaceimages-mars.comimage/featured/mars1.jpg',\n",
       " 'table': '<table border=\"1\" class=\"dataframe\">   <thead>     <tr style=\"text-align: right;\">       <th></th>       <th>Mars</th>       <th>Earth</th>     </tr>     <tr>       <th>Mars - Earth Comparison</th>       <th></th>       <th></th>     </tr>   </thead>   <tbody>     <tr>       <th>Diameter:</th>       <td>6,779 km</td>       <td>12,742 km</td>     </tr>     <tr>       <th>Mass:</th>       <td>6.39 × 10^23 kg</td>       <td>5.97 × 10^24 kg</td>     </tr>     <tr>       <th>Moons:</th>       <td>2</td>       <td>1</td>     </tr>     <tr>       <th>Distance from Sun:</th>       <td>227,943,824 km</td>       <td>149,598,262 km</td>     </tr>     <tr>       <th>Length of Year:</th>       <td>687 Earth days</td>       <td>365.24 days</td>     </tr>     <tr>       <th>Temperature:</th>       <td>-87 to -5 °C</td>       <td>-88 to 58°C</td>     </tr>   </tbody> </table>',\n",
       " 'hemisphere_data': [{'title': 'Cerberus Hemisphere Enhanced',\n",
       "   'img_url': 'https://marshemispheres.com/images/f5e372a36edfa389625da6d0cc25d905_cerberus_enhanced.tif_full.jpg'},\n",
       "  {'title': 'Schiaparelli Hemisphere Enhanced',\n",
       "   'img_url': 'https://marshemispheres.com/images/3778f7b43bbbc89d6e3cfabb3613ba93_schiaparelli_enhanced.tif_full.jpg'},\n",
       "  {'title': 'Syrtis Major Hemisphere Enhanced',\n",
       "   'img_url': 'https://marshemispheres.com/images/555e6403a6ddd7ba16ddb0e471cadcf7_syrtis_major_enhanced.tif_full.jpg'},\n",
       "  {'title': 'Valles Marineris Hemisphere Enhanced',\n",
       "   'img_url': 'https://marshemispheres.com/images/b3c7c6c9138f57b4756be9b9c43e3a48_valles_marineris_enhanced.tif_full.jpg'}]}"
      ]
     },
     "execution_count": 7,
     "metadata": {},
     "output_type": "execute_result"
    }
   ],
   "source": [
    "scrape_final()"
   ]
  },
  {
   "cell_type": "code",
   "execution_count": null,
   "id": "d1ee41ca",
   "metadata": {},
   "outputs": [],
   "source": []
  }
 ],
 "metadata": {
  "kernelspec": {
   "display_name": "Python 3",
   "language": "python",
   "name": "python3"
  },
  "language_info": {
   "codemirror_mode": {
    "name": "ipython",
    "version": 3
   },
   "file_extension": ".py",
   "mimetype": "text/x-python",
   "name": "python",
   "nbconvert_exporter": "python",
   "pygments_lexer": "ipython3",
   "version": "3.8.8"
  }
 },
 "nbformat": 4,
 "nbformat_minor": 5
}
